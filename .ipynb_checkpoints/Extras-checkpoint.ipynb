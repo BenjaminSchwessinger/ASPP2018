{
 "cells": [
  {
   "cell_type": "markdown",
   "metadata": {
    "collapsed": true
   },
   "source": [
    "## Context managers - \n",
    "Filed under things we constantly use but never know how it works"
   ]
  },
  {
   "cell_type": "markdown",
   "metadata": {},
   "source": [
    "The correct way to open a file is this ... but why?"
   ]
  },
  {
   "cell_type": "code",
   "execution_count": 8,
   "metadata": {},
   "outputs": [
    {
     "name": "stdout",
     "output_type": "stream",
     "text": [
      "> This is one of those text files\n",
      "\n",
      "> That you may think contains the secret to life and happiness\n",
      "\n",
      "> In reality, this contains nothing\n",
      "\n",
      "> Yes, I am certain this is the last line of the text\n",
      "\n",
      "> Ok I lied, this is the last line. There is nothing more\n",
      "\n"
     ]
    }
   ],
   "source": [
    "with open('sometextIwrote.txt', 'r') as f: #An example of a context manager\n",
    "    for line in f:\n",
    "        print('> {}'.format(line))"
   ]
  },
  {
   "cell_type": "markdown",
   "metadata": {},
   "source": [
    "Each file when open has a file _handle_ associated with it. \n",
    "<br>Every OS limits the number of these handles, because opening a file consumes resources.\n",
    "<br>In good practice, when you __open__ a file you also need to __close__ the file\n",
    "<br>If you don't, then you will run into an error that there are too many open files"
   ]
  },
  {
   "cell_type": "code",
   "execution_count": 9,
   "metadata": {},
   "outputs": [
    {
     "name": "stdout",
     "output_type": "stream",
     "text": [
      "Limit on open files on this OS is : 256\n"
     ]
    }
   ],
   "source": [
    "import resource\n",
    "print (\"Limit on open files on this OS is :\", resource.getrlimit(resource.RLIMIT_NOFILE)[0])"
   ]
  },
  {
   "cell_type": "code",
   "execution_count": 13,
   "metadata": {
    "collapsed": true
   },
   "outputs": [],
   "source": [
    "file = []\n",
    "for i in range(8000): #Try opening 10000 files\n",
    "    f = open('foo.txt', 'w')\n",
    "    file.append(f)\n",
    "    f.close() #Uncomment this and run again"
   ]
  },
  {
   "cell_type": "markdown",
   "metadata": {},
   "source": [
    "### Context mangers help you to tidy things up a bit"
   ]
  },
  {
   "cell_type": "markdown",
   "metadata": {},
   "source": [
    "### You can build your own context manager using yield"
   ]
  },
  {
   "cell_type": "code",
   "execution_count": 4,
   "metadata": {
    "collapsed": true
   },
   "outputs": [],
   "source": [
    "from contextlib import contextmanager\n",
    "\n",
    "\n",
    "@contextmanager  # Decorator\n",
    "def context_manager_func1(file):  # Enter the block here\n",
    "    thefile = open(file, 'r')\n",
    "    print('Opened')\n",
    "    yield thefile  # yield cuts the function in half\n",
    "    print('Closing now...')\n",
    "    thefile.close()  # Exit the block here\n",
    "\n",
    "# If you want to catch exceptions while opening file, you can write this as a try...finally... code block\n",
    "@contextmanager  \n",
    "def context_manager_func2(file):\n",
    "    try: #Enter\n",
    "        thefile = open(file, 'r')\n",
    "        print('Opened')\n",
    "        yield thefile\n",
    "    finally: #Exit\n",
    "        print('Closing now...')\n",
    "        thefile.close()"
   ]
  },
  {
   "cell_type": "code",
   "execution_count": 5,
   "metadata": {},
   "outputs": [
    {
     "name": "stdout",
     "output_type": "stream",
     "text": [
      "Opened\n",
      "> This is one of those text files\n",
      "\n",
      "> That you may think contains the secret to life and happiness\n",
      "\n",
      "> In reality, this contains nothing\n",
      "\n",
      "> Yes, I am certain this is the last line of the text\n",
      "\n",
      "> Ok I lied, this is the last line. There is nothing more\n",
      "\n",
      "Closing now...\n"
     ]
    }
   ],
   "source": [
    "with context_manager_func2('sometextIwrote.txt') as f:\n",
    "    # After the yield - these statements will run\n",
    "    for line in f:\n",
    "        print('> {}'.format(line))"
   ]
  },
  {
   "cell_type": "markdown",
   "metadata": {},
   "source": [
    "## Decorators"
   ]
  },
  {
   "cell_type": "markdown",
   "metadata": {
    "collapsed": true
   },
   "source": [
    "Decorators wrap a function, modifying its behavior."
   ]
  },
  {
   "cell_type": "code",
   "execution_count": 12,
   "metadata": {},
   "outputs": [
    {
     "name": "stdout",
     "output_type": "stream",
     "text": [
      "Before my_function is called.\n",
      "Ok I guess\n",
      "After my_function is called.\n"
     ]
    }
   ],
   "source": [
    "def my_decorator(my_function):\n",
    "\n",
    "    def wrapper():\n",
    "        print(\"Before my_function is called.\")\n",
    "        my_function()\n",
    "        print(\"After my_function is called.\")\n",
    "    return wrapper\n",
    "\n",
    "\n",
    "def my_function():\n",
    "    print(\"Ok I guess\")\n",
    "\n",
    "my_function = my_decorator(my_function)\n",
    "my_function()"
   ]
  },
  {
   "cell_type": "markdown",
   "metadata": {},
   "source": [
    "@ is just syntactic sugar - simplifying the calling of a decorator\n",
    "\n",
    "`@my_decorator` on top of my_function is the same as \n",
    "my_function = my_decorator(my_function)`"
   ]
  },
  {
   "cell_type": "code",
   "execution_count": 14,
   "metadata": {},
   "outputs": [
    {
     "name": "stdout",
     "output_type": "stream",
     "text": [
      "Before my_function is called.\n",
      "Ok I guess\n",
      "After my_function is called.\n"
     ]
    }
   ],
   "source": [
    "@my_decorator\n",
    "def my_function():\n",
    "    print('Ok I guess')\n",
    "    \n",
    "my_function()"
   ]
  },
  {
   "cell_type": "code",
   "execution_count": 14,
   "metadata": {},
   "outputs": [
    {
     "name": "stdout",
     "output_type": "stream",
     "text": [
      "Sum of squares is 333283335000\n",
      "Time it took to run the function:  0.007 s \n",
      "\n"
     ]
    }
   ],
   "source": [
    "import time\n",
    "\n",
    "\n",
    "def get_time(my_function):\n",
    "    \"\"\"\n",
    "    Get time taken by a function to execute\n",
    "    \"\"\"\n",
    "\n",
    "    def wrapper():\n",
    "        t1 = time.time()\n",
    "        my_function()\n",
    "        t2 = time.time()\n",
    "        return f'Time it took to run the function: {t2-t1 : 0.3f} s \\n'\n",
    "    return wrapper\n",
    "\n",
    "\n",
    "@get_time\n",
    "def my_function():\n",
    "    num_list = []\n",
    "    for num in (range(0, 10000)):\n",
    "        num_list.append(num * num)\n",
    "    print(f'Sum of squares is {sum(num_list)}')\n",
    "\n",
    "\n",
    "print(my_function())"
   ]
  },
  {
   "cell_type": "code",
   "execution_count": 30,
   "metadata": {
    "collapsed": true
   },
   "outputs": [],
   "source": [
    "## Caching\n",
    "def caching(func):\n",
    "    argdict = {}\n",
    "    def wrapper(x):\n",
    "        print('Before Wrap func')\n",
    "        if x in argdict:\n",
    "            print('After arg func')\n",
    "            return argdict[x]\n",
    "        else:\n",
    "            print('first arg func')\n",
    "            res = func(x)\n",
    "            argdict[x] = res\n",
    "            return res\n",
    "    wrapper.cache = argdict\n",
    "    return wrapper"
   ]
  },
  {
   "cell_type": "code",
   "execution_count": 31,
   "metadata": {},
   "outputs": [
    {
     "name": "stdout",
     "output_type": "stream",
     "text": [
      "Before Wrap func\n",
      "first arg func\n"
     ]
    },
    {
     "data": {
      "text/plain": [
       "4"
      ]
     },
     "execution_count": 31,
     "metadata": {},
     "output_type": "execute_result"
    }
   ],
   "source": [
    "@caching\n",
    "def func1(A):\n",
    "    return A*2\n",
    "\n",
    "func1(2)"
   ]
  },
  {
   "cell_type": "code",
   "execution_count": 29,
   "metadata": {
    "collapsed": true
   },
   "outputs": [],
   "source": [
    "func1.myattribute = 10"
   ]
  },
  {
   "cell_type": "code",
   "execution_count": 32,
   "metadata": {},
   "outputs": [
    {
     "data": {
      "text/plain": [
       "{2: 4}"
      ]
     },
     "execution_count": 32,
     "metadata": {},
     "output_type": "execute_result"
    }
   ],
   "source": [
    "func1.cache"
   ]
  },
  {
   "cell_type": "code",
   "execution_count": 33,
   "metadata": {},
   "outputs": [
    {
     "ename": "NameError",
     "evalue": "name 'cur' is not defined",
     "output_type": "error",
     "traceback": [
      "\u001b[0;31m---------------------------------------------------------------------------\u001b[0m",
      "\u001b[0;31mNameError\u001b[0m                                 Traceback (most recent call last)",
      "\u001b[0;32m<ipython-input-33-e0d774c11e0d>\u001b[0m in \u001b[0;36m<module>\u001b[0;34m()\u001b[0m\n\u001b[1;32m      6\u001b[0m     \u001b[0;32melse\u001b[0m\u001b[0;34m:\u001b[0m \u001b[0mf\u001b[0m\u001b[0;34m(\u001b[0m\u001b[0;34m)\u001b[0m               \u001b[0;31m# enough is enough\u001b[0m\u001b[0;34m\u001b[0m\u001b[0m\n\u001b[1;32m      7\u001b[0m \u001b[0;34m\u001b[0m\u001b[0m\n\u001b[0;32m----> 8\u001b[0;31m \u001b[0mstress\u001b[0m\u001b[0;34m(\u001b[0m\u001b[0mcur\u001b[0m\u001b[0;34m(\u001b[0m\u001b[0mf2\u001b[0m\u001b[0;34m)\u001b[0m\u001b[0;34m,\u001b[0m \u001b[0;36m100\u001b[0m\u001b[0;34m)\u001b[0m\u001b[0;34m\u001b[0m\u001b[0m\n\u001b[0m",
      "\u001b[0;31mNameError\u001b[0m: name 'cur' is not defined"
     ]
    }
   ],
   "source": []
  },
  {
   "cell_type": "code",
   "execution_count": null,
   "metadata": {
    "collapsed": true
   },
   "outputs": [],
   "source": []
  }
 ],
 "metadata": {
  "kernelspec": {
   "display_name": "Python 2",
   "language": "python",
   "name": "python2"
  },
  "language_info": {
   "codemirror_mode": {
    "name": "ipython",
    "version": 2
   },
   "file_extension": ".py",
   "mimetype": "text/x-python",
   "name": "python",
   "nbconvert_exporter": "python",
   "pygments_lexer": "ipython2",
   "version": "2.7.12"
  },
  "toc": {
   "nav_menu": {},
   "number_sections": true,
   "sideBar": true,
   "skip_h1_title": false,
   "toc_cell": false,
   "toc_position": {},
   "toc_section_display": "block",
   "toc_window_display": false
  }
 },
 "nbformat": 4,
 "nbformat_minor": 2
}
