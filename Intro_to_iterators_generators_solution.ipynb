{
 "cells": [
  {
   "cell_type": "markdown",
   "metadata": {},
   "source": [
    "### Task1\n",
    "- Define a second generator that yields the number of words in each line\n",
    "- Use charcount(filename) as an input to this generator\n",
    "- output print statement should include (linenumber, charcount and word count)\n",
    "\n",
    "Tip : What I like to do when writing a generator is to print statements instead of yield.\n",
    "When I am satisfied with the accuracy of the print statement, I convert it to yield"
   ]
  },
  {
   "cell_type": "raw",
   "metadata": {},
   "source": [
    "def countwords(linearray):\n",
    "    \"\"\" Write a generator that gets the \n",
    "    number of words from each line of the csv file\n",
    "    Hint : Loop through the input argument linearray and yield the result\n",
    "    \"\"\"\n",
    "    "
   ]
  },
  {
   "cell_type": "raw",
   "metadata": {},
   "source": [
    "for () in countwords(charcount(filename = 'sometextIwrote.txt')):\n",
    "    print()"
   ]
  },
  {
   "cell_type": "markdown",
   "metadata": {},
   "source": [
    "### Task 1 - Solution"
   ]
  },
  {
   "cell_type": "code",
   "execution_count": 87,
   "metadata": {
    "collapsed": true
   },
   "outputs": [],
   "source": [
    "def countwords(linearray):\n",
    "    for lines, ccount in linearray:\n",
    "        yield ccount, len(lines.split())"
   ]
  },
  {
   "cell_type": "code",
   "execution_count": 106,
   "metadata": {},
   "outputs": [
    {
     "name": "stdout",
     "output_type": "stream",
     "text": [
      "> line number:0 char count: 31, number of words: 8\n",
      "> line number:1 char count: 38, number of words: 7\n",
      "> line number:2 char count: 21, number of words: 2\n",
      "> line number:3 char count: 27, number of words: 4\n",
      "> line number:4 char count: 39, number of words: 8\n"
     ]
    }
   ],
   "source": [
    "for i, l in enumerate(countwords(charcount(filename = 'sometext.txt'))):\n",
    "    print(f'> line number:{i} char count: {l[0]}, number of words: {l[1]}')"
   ]
  },
  {
   "cell_type": "markdown",
   "metadata": {},
   "source": [
    "## Task 1b solution"
   ]
  },
  {
   "cell_type": "code",
   "execution_count": 118,
   "metadata": {},
   "outputs": [
    {
     "ename": "FileNotFoundError",
     "evalue": "[Errno 2] No such file or directory: 'sometextIwrote.txt'",
     "output_type": "error",
     "traceback": [
      "\u001b[0;31m---------------------------------------------------------------------------\u001b[0m",
      "\u001b[0;31mFileNotFoundError\u001b[0m                         Traceback (most recent call last)",
      "\u001b[0;32m<ipython-input-118-4b3098487a31>\u001b[0m in \u001b[0;36m<module>\u001b[0;34m()\u001b[0m\n\u001b[1;32m      1\u001b[0m \u001b[0mtotal\u001b[0m \u001b[0;34m=\u001b[0m \u001b[0;36m0\u001b[0m\u001b[0;34m\u001b[0m\u001b[0m\n\u001b[0;32m----> 2\u001b[0;31m \u001b[0;32mfor\u001b[0m \u001b[0mcount\u001b[0m\u001b[0;34m,\u001b[0m \u001b[0mn\u001b[0m \u001b[0;32min\u001b[0m \u001b[0menumerate\u001b[0m\u001b[0;34m(\u001b[0m\u001b[0mcharcount\u001b[0m\u001b[0;34m(\u001b[0m\u001b[0mfilename\u001b[0m\u001b[0;34m)\u001b[0m\u001b[0;34m,\u001b[0m \u001b[0;36m1\u001b[0m\u001b[0;34m)\u001b[0m\u001b[0;34m:\u001b[0m\u001b[0;34m\u001b[0m\u001b[0m\n\u001b[0m\u001b[1;32m      3\u001b[0m     \u001b[0mtotal\u001b[0m\u001b[0;34m+=\u001b[0m\u001b[0mn\u001b[0m\u001b[0;34m[\u001b[0m\u001b[0;36m1\u001b[0m\u001b[0;34m]\u001b[0m\u001b[0;34m\u001b[0m\u001b[0m\n\u001b[1;32m      4\u001b[0m \u001b[0;34m\u001b[0m\u001b[0m\n\u001b[1;32m      5\u001b[0m \u001b[0mprint\u001b[0m\u001b[0;34m(\u001b[0m\u001b[0;34mf'Mean length per line {total/count:0.2f}'\u001b[0m\u001b[0;34m)\u001b[0m\u001b[0;34m\u001b[0m\u001b[0m\n",
      "\u001b[0;32m<ipython-input-82-0a96e02ad0b7>\u001b[0m in \u001b[0;36mcharcount\u001b[0;34m(filename)\u001b[0m\n\u001b[1;32m      1\u001b[0m \u001b[0;32mdef\u001b[0m \u001b[0mcharcount\u001b[0m\u001b[0;34m(\u001b[0m\u001b[0mfilename\u001b[0m\u001b[0;34m)\u001b[0m\u001b[0;34m:\u001b[0m\u001b[0;34m\u001b[0m\u001b[0m\n\u001b[1;32m      2\u001b[0m     \u001b[0;34m\"\"\" Generator function that reads lines and  yields the line and characters in each line \"\"\"\u001b[0m\u001b[0;34m\u001b[0m\u001b[0m\n\u001b[0;32m----> 3\u001b[0;31m     \u001b[0;32mwith\u001b[0m \u001b[0mopen\u001b[0m\u001b[0;34m(\u001b[0m\u001b[0mfilename\u001b[0m\u001b[0;34m)\u001b[0m \u001b[0;32mas\u001b[0m \u001b[0mfin\u001b[0m\u001b[0;34m:\u001b[0m\u001b[0;34m\u001b[0m\u001b[0m\n\u001b[0m\u001b[1;32m      4\u001b[0m         \u001b[0;32mfor\u001b[0m \u001b[0mlinenumber\u001b[0m\u001b[0;34m,\u001b[0m \u001b[0mlines\u001b[0m \u001b[0;32min\u001b[0m \u001b[0menumerate\u001b[0m\u001b[0;34m(\u001b[0m\u001b[0mfin\u001b[0m\u001b[0;34m)\u001b[0m\u001b[0;34m:\u001b[0m\u001b[0;34m\u001b[0m\u001b[0m\n\u001b[1;32m      5\u001b[0m             \u001b[0;32myield\u001b[0m \u001b[0mlines\u001b[0m\u001b[0;34m,\u001b[0m \u001b[0mlen\u001b[0m\u001b[0;34m(\u001b[0m\u001b[0mlines\u001b[0m\u001b[0;34m)\u001b[0m\u001b[0;34m\u001b[0m\u001b[0m\n",
      "\u001b[0;31mFileNotFoundError\u001b[0m: [Errno 2] No such file or directory: 'sometextIwrote.txt'"
     ]
    }
   ],
   "source": [
    "total = 0\n",
    "for count, n in enumerate(charcount(filename='WallabyDNAseq.txt'), 1):\n",
    "    total += n[1]\n",
    "\n",
    "print(f'Mean length per line {total/count:0.2f}')"
   ]
  },
  {
   "cell_type": "markdown",
   "metadata": {},
   "source": [
    "## Generators are great for large datasets that you want to process one line at a time\n",
    "- Unlike batch type of programming,that could create a large memory footprint, generators iterate over data __lazily__ without loading the entire data source into memory at once.\n",
    "- __yield__ is not __return__!! \n",
    "- When functions `return`, they are done for good. Generators are alive till values are exhausted\n",
    "- Functions always start from the first line, generators start where you left off : at __yield__ \n",
    "- __Limitation__ - with a generator you can only iterate. You can't peak ahead or look behind"
   ]
  },
  {
   "cell_type": "markdown",
   "metadata": {},
   "source": [
    "## Task 2 : Streaming with `yield`\n",
    "Multiple CSV files stored in a directory, contain information of x-y position of a swimming zebrafish across time.\n",
    "<br>__The task:__\n",
    "1. Loop through each csv file, acquire the x and y position and find distance travelled by the fish at each time point.\n",
    "2. To find distance travelled between two timepoints, you need to get the x and y position of fish at two consecutive frames.\n",
    "3. Using the acquired distance travelled, print time spent by the fish at a speed below the threshold. "
   ]
  },
  {
   "cell_type": "markdown",
   "metadata": {},
   "source": [
    "  <img src=\"files/fish.png\"  width=\"400\" >"
   ]
  },
  {
   "cell_type": "code",
   "execution_count": 103,
   "metadata": {
    "collapsed": true
   },
   "outputs": [],
   "source": [
    "import csv\n",
    "import os\n",
    "\n",
    "\n",
    "def CSVfileGrabber(dirname):\n",
    "    \"\"\"Step 1 : Grab CSV files from a directory \"\"\"\n",
    "    for filename in os.listdir(dirname):\n",
    "        if filename.endswith('.csv'):\n",
    "            print('Working on: {}'.format(filename[:5]))  # Print name of fish\n",
    "            yield os.path.join(dirname, filename)\n",
    "\n",
    "\n",
    "def readxy(filename):\n",
    "    \"\"\"Step 2 : read the csv files line by line \"\"\"\n",
    "    with open(filename) as f:\n",
    "        csvreader = csv.reader(f)\n",
    "        for i, line in enumerate(csvreader):\n",
    "            # Skip a few lines\n",
    "            if i < 10:\n",
    "                continue\n",
    "            else:\n",
    "                 # x and y coordinates\n",
    "                x = int(line[2])\n",
    "                y = int(line[3])\n",
    "                yield (x, y)"
   ]
  },
  {
   "cell_type": "code",
   "execution_count": 104,
   "metadata": {},
   "outputs": [
    {
     "name": "stdout",
     "output_type": "stream",
     "text": [
      "Working on: Fish1\n",
      "Parsed lines from this csv file is 17\n",
      "Working on: Fish2\n",
      "Parsed lines from this csv file is 17\n"
     ]
    }
   ],
   "source": [
    "dirname = '/Users/seetha/Desktop/Microbetest/ExampleFile/'  # A small sample dataset\n",
    "\n",
    "for files in CSVfileGrabber(dirname):\n",
    "    print(files)\n",
    "    \n",
    "# for files in CSVfileGrabber(dirname):\n",
    "#     numline = 0\n",
    "#     for g in readxy(files):\n",
    "#         numline += 1\n",
    "#     print('Parsed lines from this csv file is {}'.format(numline))"
   ]
  },
  {
   "cell_type": "code",
   "execution_count": 105,
   "metadata": {
    "collapsed": true
   },
   "outputs": [],
   "source": [
    "def consecutivexy1(linearray):\n",
    "    \"\"\"Step 4: get consecutive xy values\"\"\"\n",
    "    # Here we want to get two consecutive xy to get speed/frame\n",
    "    # Make use of the next keyword\n",
    "    for i, line in enumerate(linearray):\n",
    "        if i == 0:\n",
    "            prevxy = line\n",
    "            nextxy = next(linearray)\n",
    "        else:\n",
    "            prevxy = nextxy\n",
    "            nextxy = line\n",
    "        yield prevxy, nextxy"
   ]
  },
  {
   "cell_type": "markdown",
   "metadata": {},
   "source": [
    "A nice way to do this is to use itertools (which is an amazing library for looping through iterators) https://docs.python.org/3/library/itertools.html"
   ]
  },
  {
   "cell_type": "code",
   "execution_count": 92,
   "metadata": {
    "collapsed": true
   },
   "outputs": [],
   "source": [
    "from itertools import tee\n",
    "\n",
    "\n",
    "def consecutivexy2(linearray):\n",
    "    # This makes two copies of the same iterable\n",
    "    prevxy, nextxy = tee(linearray, 2)\n",
    "    next(nextxy)  # discard one\n",
    "    yield from zip(prevxy, nextxy)  # Note here I am using \"yield from\""
   ]
  },
  {
   "cell_type": "markdown",
   "metadata": {},
   "source": [
    "#### Sidenote : `yield from`\n",
    "With `yield from`, we can skip an extra `for` loop"
   ]
  },
  {
   "cell_type": "raw",
   "metadata": {},
   "source": [
    "yield from sequence\n",
    "\n",
    "#is same as\n",
    "\n",
    "for elem in sequence:\n",
    "    yield elem"
   ]
  },
  {
   "cell_type": "code",
   "execution_count": 93,
   "metadata": {},
   "outputs": [
    {
     "name": "stdout",
     "output_type": "stream",
     "text": [
      "(0, 6)\n",
      "(1, 7)\n",
      "(2, 8)\n",
      "(3, 9)\n",
      "(4, 10)\n"
     ]
    }
   ],
   "source": [
    "# A simple example to see what the yield from function will do \n",
    "A = range(5)\n",
    "B = range(6, 11)\n",
    "\n",
    "def temp(A, B): #Without yield from\n",
    "    for a, b in zip(A, B):\n",
    "        yield a, b\n",
    "            \n",
    "for i in temp(A, B): \n",
    "    print(i)\n",
    "# Two loops!! You need two loops!!"
   ]
  },
  {
   "cell_type": "code",
   "execution_count": 94,
   "metadata": {},
   "outputs": [
    {
     "name": "stdout",
     "output_type": "stream",
     "text": [
      "(0, 6)\n",
      "(1, 7)\n",
      "(2, 8)\n",
      "(3, 9)\n",
      "(4, 10)\n"
     ]
    }
   ],
   "source": [
    "# After Python 3.3 and existance of yield from\n",
    "def yieldfromexample(A, B):\n",
    "    yield from zip(A, B)\n",
    "for i in yieldfromexample(A, B):\n",
    "    print(i)"
   ]
  },
  {
   "cell_type": "code",
   "execution_count": 95,
   "metadata": {},
   "outputs": [
    {
     "name": "stdout",
     "output_type": "stream",
     "text": [
      "Working on: Fish1\n",
      "Parsed lines from this csv file is 16\n",
      "Working on: Fish2\n",
      "Parsed lines from this csv file is 16\n"
     ]
    }
   ],
   "source": [
    "# Just to make sure things are working\n",
    "for files in CSVfileGrabber(dirname):\n",
    "    numline = 0\n",
    "    for x, y in consecutivexy1(getxy(readcsv(files))):\n",
    "#         print(x, y)\n",
    "        numline += 1\n",
    "    print('Parsed lines from this csv file is {}'.format(numline))"
   ]
  },
  {
   "cell_type": "markdown",
   "metadata": {},
   "source": [
    "## Write the next parts on your own\n",
    "- Step 5 : Calculate distance between the two consecutive points\n",
    "- Step 6 : Put it all together"
   ]
  },
  {
   "cell_type": "code",
   "execution_count": 96,
   "metadata": {
    "collapsed": true
   },
   "outputs": [],
   "source": [
    "# Step 5: Calculate euclidean distance\n",
    "import math\n",
    "\n",
    "\n",
    "def getdist(xy):\n",
    "    \"\"\"  \n",
    "    Write a generator function that recieves \n",
    "    the previous and next x-y location of the fish \n",
    "    and calculates the distance between the two points\n",
    "    \n",
    "    Euclidean distance between two points (x1, y1) and (x2, y2) is \n",
    "    sqrt((x1-x2)^2 + (y1-y2)^2)\n",
    "   \"\"\""
   ]
  },
  {
   "cell_type": "code",
   "execution_count": 97,
   "metadata": {
    "collapsed": true
   },
   "outputs": [],
   "source": [
    "# Step 6: Put it all together\n",
    "def getframes(dist, threshold, frames_per_sec):\n",
    "    \"\"\"\n",
    "    Count frames with distance below a user-defined threshold and\n",
    "    complete the print statement given below\n",
    "    (Hint: use enumerate to find number of frames)\n",
    "    \n",
    "    Example:\n",
    "    Of 16.27 seconds recording time, time spent with speed less than 10 is 12.83 seconds\n",
    "    \"\"\"\n",
    "    \n",
    "    print('Of {:0.2f} seconds recording time, time spent with speed less than {} is {:0.2f} seconds')"
   ]
  },
  {
   "cell_type": "markdown",
   "metadata": {},
   "source": [
    "## Task2 : Solution"
   ]
  },
  {
   "cell_type": "code",
   "execution_count": 107,
   "metadata": {
    "collapsed": true
   },
   "outputs": [],
   "source": [
    "import math\n",
    "def getdist(xy):\n",
    "    # Calculate euclidean distance\n",
    "    for prevxy, nextxy in xy:\n",
    "        # zip allows you to iterate two lists parallely\n",
    "        dist = [(a - b)**2 for a, b in zip(prevxy, nextxy)]\n",
    "        dist = math.sqrt(sum(dist))\n",
    "        yield dist\n",
    "\n",
    "def getframes(dist, threshold=10, frames_per_sec=30):\n",
    "    dist_count = 0\n",
    "    for i, d in enumerate(dist):\n",
    "        if d < threshold:\n",
    "            dist_count += 1\n",
    "    print('Of {:0.3f} seconds recording time, time spent with speed less than {} is {:0.3f} seconds'.format(\n",
    "        i / frames_per_sec, threshold, dist_count / frames_per_sec))"
   ]
  },
  {
   "cell_type": "code",
   "execution_count": 108,
   "metadata": {},
   "outputs": [
    {
     "name": "stdout",
     "output_type": "stream",
     "text": [
      "Working on: Fish1\n",
      "Of 16.267 seconds recording time, time spent with speed less than 10 is 12.833 seconds\n",
      "Working on: Fish6\n",
      "Of 16.267 seconds recording time, time spent with speed less than 10 is 15.133 seconds\n"
     ]
    }
   ],
   "source": [
    "# Test your code with larger datasets\n",
    "dirname = '/Users/seetha/Desktop/Microbetest/Collective/'\n",
    "for files in CSVfileGrabber(dirname):\n",
    "    getframes(\n",
    "        getdist(\n",
    "            consecutivexy2(\n",
    "                readxy(files))), threshold=10, frames_per_sec=30)"
   ]
  },
  {
   "cell_type": "markdown",
   "metadata": {},
   "source": [
    "### Task 3 - solution"
   ]
  },
  {
   "cell_type": "code",
   "execution_count": 116,
   "metadata": {
    "collapsed": true
   },
   "outputs": [],
   "source": [
    "def words(text):\n",
    "    if text.startswith('#FIXME'):\n",
    "        return True\n",
    "        \n",
    "def myfilter(myfunc, myseq):\n",
    "    for x in myseq:\n",
    "        if myfunc(x):\n",
    "            yield x\n",
    "        else:\n",
    "            continue"
   ]
  },
  {
   "cell_type": "code",
   "execution_count": 117,
   "metadata": {},
   "outputs": [
    {
     "name": "stdout",
     "output_type": "stream",
     "text": [
      "#FIXME: Reset all counters when the subject name changes\n",
      "\n",
      "#FIXME: The program crashes sometimes, possibility after overlaying the video on top of the gray screen\n",
      "\n",
      "#FIXME: Look into why rewarded fixations appear to fall outside the allowed window.\n",
      "\n",
      "#FIXME: randomize calibration spot during calibration\n",
      "\n",
      "#FIXME: run a check to ensure that the monkey does not enter other locations other than the target in the response window\n",
      "\n",
      "#FIXME: Make sure we align the trials to the screen flip\n",
      "\n",
      "#FIXME: Randomly cycle through fixation locations which can be interrupted, should be resumed when done\n",
      "\n",
      "#FIXME: Add feedback on the experimenter's plot on how many trials have been completed\n",
      "\n"
     ]
    }
   ],
   "source": [
    "for i in myfilter(words, open('FixationTaskToDo.txt')):\n",
    "    print(i)"
   ]
  },
  {
   "cell_type": "code",
   "execution_count": null,
   "metadata": {
    "collapsed": true
   },
   "outputs": [],
   "source": []
  }
 ],
 "metadata": {
  "kernelspec": {
   "display_name": "Python 2",
   "language": "python",
   "name": "python2"
  },
  "language_info": {
   "codemirror_mode": {
    "name": "ipython",
    "version": 2
   },
   "file_extension": ".py",
   "mimetype": "text/x-python",
   "name": "python",
   "nbconvert_exporter": "python",
   "pygments_lexer": "ipython2",
   "version": "2.7.12"
  },
  "toc": {
   "nav_menu": {},
   "number_sections": false,
   "sideBar": true,
   "skip_h1_title": false,
   "toc_cell": false,
   "toc_position": {},
   "toc_section_display": "block",
   "toc_window_display": false
  }
 },
 "nbformat": 4,
 "nbformat_minor": 2
}
