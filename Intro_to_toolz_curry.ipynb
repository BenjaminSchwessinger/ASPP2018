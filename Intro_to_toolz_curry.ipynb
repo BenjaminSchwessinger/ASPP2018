{
 "cells": [
  {
   "cell_type": "markdown",
   "metadata": {},
   "source": [
    "### The statement that calls multiple generators looks ugly.\n",
    "In such cases, with multiple genertors lined up, yield can start to feel unintuitive and tedious\n",
    "\n",
    "__Enter Toolz__\n",
    "<br> Toolz by Matt Rocklin - http://toolz.readthedocs.io/en/latest/\n",
    "<br> It makes streaming super easy - intuitive and concise !\n",
    "\n",
    "For more examples and explanation from Elegant Scipy written by the brilliant ASPP faculty - https://github.com/elegant-scipy/notebooks/blob/master/notebooks/ch8.ipynb"
   ]
  },
  {
   "cell_type": "code",
   "execution_count": 34,
   "metadata": {
    "collapsed": true
   },
   "outputs": [],
   "source": [
    "import toolz as tz\n",
    "from toolz import curry\n",
    "import getspeeddata as gs"
   ]
  },
  {
   "cell_type": "markdown",
   "metadata": {},
   "source": [
    "### toolz.pipe\n",
    "Pipe is simply syntactic sugar to make multiple function calls easy\n",
    "<br> Passes a value through a sequence of functions - one by one"
   ]
  },
  {
   "cell_type": "code",
   "execution_count": 35,
   "metadata": {
    "collapsed": true
   },
   "outputs": [],
   "source": [
    "curried_get_frames = curry(gs.getframes)"
   ]
  },
  {
   "cell_type": "code",
   "execution_count": 36,
   "metadata": {
    "collapsed": true
   },
   "outputs": [],
   "source": [
    "# This will do exactly as the previous call (without the added brackets)\n",
    "# The function calls are cleaner and can be read from left to right - which is sooo much better\n",
    "def pipeline(filename):\n",
    "    pipe = tz.pipe(filename,\n",
    "                gs.readxy,\n",
    "                gs.consecutivexy1,\n",
    "                gs.getdist,\n",
    "                curried_get_frames(threshold=10, frames_per_sec=30)\n",
    "               )\n",
    "    return pipe"
   ]
  },
  {
   "cell_type": "code",
   "execution_count": 37,
   "metadata": {},
   "outputs": [
    {
     "name": "stdout",
     "output_type": "stream",
     "text": [
      "Working on: Fish1\n",
      "Of 16.267 seconds recording time, time spent with speed less than 10 is 12.833 seconds\n",
      "Working on: Fish6\n",
      "Of 16.267 seconds recording time, time spent with speed less than 10 is 15.133 seconds\n"
     ]
    }
   ],
   "source": [
    "dirname = '/Users/seetha/Desktop/Microbetest/Collective/'\n",
    "for i in gs.CSVfileGrabber(dirname):\n",
    "    pipeline(i)"
   ]
  },
  {
   "cell_type": "markdown",
   "metadata": {},
   "source": [
    "## Whats this curry?\n",
    "Curry = Haskell Brooks Curry \n",
    "<br> __\"Currying\"__ means partially evaluating a function and returning another function. "
   ]
  },
  {
   "cell_type": "code",
   "execution_count": 8,
   "metadata": {},
   "outputs": [
    {
     "ename": "TypeError",
     "evalue": "sum expected at least 1 arguments, got 0",
     "output_type": "error",
     "traceback": [
      "\u001b[0;31m---------------------------------------------------------------------------\u001b[0m",
      "\u001b[0;31mTypeError\u001b[0m                                 Traceback (most recent call last)",
      "\u001b[0;32m<ipython-input-8-d1ec2718f043>\u001b[0m in \u001b[0;36m<module>\u001b[0;34m()\u001b[0m\n\u001b[1;32m      1\u001b[0m \u001b[0;31m# If you dont give all inputs to a python function, it becomes angry\u001b[0m\u001b[0;34m\u001b[0m\u001b[0;34m\u001b[0m\u001b[0m\n\u001b[0;32m----> 2\u001b[0;31m \u001b[0msum\u001b[0m\u001b[0;34m(\u001b[0m\u001b[0;34m)\u001b[0m\u001b[0;34m\u001b[0m\u001b[0m\n\u001b[0m",
      "\u001b[0;31mTypeError\u001b[0m: sum expected at least 1 arguments, got 0"
     ]
    }
   ],
   "source": [
    "# If you dont give all inputs to a python function, it becomes angry\n",
    "sum()"
   ]
  },
  {
   "cell_type": "markdown",
   "metadata": {},
   "source": [
    "### By currying, we are breaking down the evaluation of a function \n",
    "A curried function evaluates partially when you dont give it all the arguments, and fully when all arguments are available. "
   ]
  },
  {
   "cell_type": "raw",
   "metadata": {},
   "source": [
    "# The syntax to wrap your head around\n",
    "def lets_curry_this_function(defined_function_with_some_arguments):\n",
    "    if all_arguments_are_given:\n",
    "        return defined_function(args)\n",
    "    else some_arguments_given:\n",
    "        return partial_definition_of_function(given args)"
   ]
  },
  {
   "cell_type": "markdown",
   "metadata": {},
   "source": [
    "### In python, functions can be passed around as any other object\n",
    "built-in function `Map` : Returns an iterator that applies function to every item of iterable, yielding the results\n",
    "<br>`map(function_to_apply, list_of_inputs)`"
   ]
  },
  {
   "cell_type": "code",
   "execution_count": 19,
   "metadata": {
    "collapsed": true
   },
   "outputs": [],
   "source": [
    "def getlen(text):\n",
    "    return len(text.split())"
   ]
  },
  {
   "cell_type": "code",
   "execution_count": 20,
   "metadata": {
    "run_control": {
     "marked": false
    }
   },
   "outputs": [
    {
     "data": {
      "text/plain": [
       "<map at 0x10673f0b8>"
      ]
     },
     "execution_count": 20,
     "metadata": {},
     "output_type": "execute_result"
    }
   ],
   "source": [
    "strings = ['I am ok', 'I guess I will be ok']\n",
    "map(getlen, strings)"
   ]
  },
  {
   "cell_type": "code",
   "execution_count": 25,
   "metadata": {},
   "outputs": [
    {
     "name": "stdout",
     "output_type": "stream",
     "text": [
      "3\n",
      "6\n"
     ]
    }
   ],
   "source": [
    "for i in map(getlen, strings):\n",
    "    print(i)"
   ]
  },
  {
   "cell_type": "markdown",
   "metadata": {},
   "source": [
    "If we were to think about how the `map` function is implemented"
   ]
  },
  {
   "cell_type": "code",
   "execution_count": 26,
   "metadata": {
    "collapsed": true
   },
   "outputs": [],
   "source": [
    "def a_map_function(myfunc, myseq):\n",
    "    for x in myseq: \n",
    "        yield myfunc(x)"
   ]
  },
  {
   "cell_type": "code",
   "execution_count": 28,
   "metadata": {},
   "outputs": [
    {
     "name": "stdout",
     "output_type": "stream",
     "text": [
      "3\n",
      "6\n"
     ]
    }
   ],
   "source": [
    "for i in a_map_function(getlen, strings):\n",
    "    print(i)"
   ]
  },
  {
   "cell_type": "markdown",
   "metadata": {},
   "source": [
    "### Task 3: Implement the in-built `filter` function\n",
    "__filter__ - Returns those elements of iterable for which function returns true <br> `filter(function, sequence)`\n",
    "\n",
    "__To Do__ - From the file 'FixationTaskToDo.txt', filter those lines that are tasks to be fixed (#FIXME)"
   ]
  },
  {
   "cell_type": "markdown",
   "metadata": {},
   "source": []
  },
  {
   "cell_type": "markdown",
   "metadata": {},
   "source": [
    "### Now lets think about how curry would work \n",
    "This is a curried implementation of the same map function"
   ]
  },
  {
   "cell_type": "code",
   "execution_count": 60,
   "metadata": {
    "collapsed": true
   },
   "outputs": [],
   "source": [
    "def curried_map_function(myfunc, myseq=None):\n",
    "    if myseq == None:\n",
    "        print('Partial')\n",
    "        return functools.partial(map, myfunc)\n",
    "    else:\n",
    "        print('Yield')\n",
    "        return map(myfunc, myseq) # Use a single sequence for now"
   ]
  },
  {
   "cell_type": "code",
   "execution_count": 61,
   "metadata": {},
   "outputs": [
    {
     "name": "stdout",
     "output_type": "stream",
     "text": [
      "Partial\n"
     ]
    }
   ],
   "source": [
    "g = curried_map_function(getlen)"
   ]
  },
  {
   "cell_type": "code",
   "execution_count": 62,
   "metadata": {},
   "outputs": [
    {
     "data": {
      "text/plain": [
       "[3]"
      ]
     },
     "execution_count": 62,
     "metadata": {},
     "output_type": "execute_result"
    }
   ],
   "source": [
    "list(g(['Ok i guess']))"
   ]
  },
  {
   "cell_type": "markdown",
   "metadata": {},
   "source": [
    "## If we want to curry any other generic function\n",
    "For example, `add` that takes two arguments"
   ]
  },
  {
   "cell_type": "code",
   "execution_count": 108,
   "metadata": {
    "code_folding": [
     9
    ],
    "collapsed": true
   },
   "outputs": [],
   "source": [
    "def chain_curry(my_function):\n",
    "    \"\"\" A chain curry function \"\"\"\n",
    "    def f1(a):\n",
    "        def f2(b):\n",
    "            return my_function(a, b)\n",
    "        return f2\n",
    "    return f1\n",
    "\n",
    "\n",
    "# def chain_curry(my_function):\n",
    "    \"\"\" A chain curry function \"\"\"\n",
    "    print('Entering the function')\n",
    "\n",
    "    def f1(a):\n",
    "        print('Evaluating partially given input', a)\n",
    "\n",
    "        def f2(b):\n",
    "            print('Evaluating fully after getting input', b)\n",
    "            return my_function(a, b)\n",
    "        print('f2', f2)\n",
    "        return f2\n",
    "    print('f1', f1)\n",
    "    return f1\n",
    "\n",
    "\n",
    "def add(a, b):\n",
    "    return a + b"
   ]
  },
  {
   "cell_type": "code",
   "execution_count": 109,
   "metadata": {},
   "outputs": [],
   "source": [
    "f = chain_curry(my_function=add) #Define a curried function"
   ]
  },
  {
   "cell_type": "code",
   "execution_count": 110,
   "metadata": {
    "code_folding": []
   },
   "outputs": [],
   "source": [
    "g = f(1) #Just holds on to the value and produces no error"
   ]
  },
  {
   "cell_type": "code",
   "execution_count": 111,
   "metadata": {},
   "outputs": [
    {
     "data": {
      "text/plain": [
       "6"
      ]
     },
     "execution_count": 111,
     "metadata": {},
     "output_type": "execute_result"
    }
   ],
   "source": [
    "g(5)"
   ]
  },
  {
   "cell_type": "code",
   "execution_count": 112,
   "metadata": {},
   "outputs": [
    {
     "data": {
      "text/plain": [
       "6"
      ]
     },
     "execution_count": 112,
     "metadata": {},
     "output_type": "execute_result"
    }
   ],
   "source": [
    "f(1)(5)"
   ]
  },
  {
   "cell_type": "markdown",
   "metadata": {},
   "source": [
    "Problem with a chain curry?"
   ]
  },
  {
   "cell_type": "markdown",
   "metadata": {},
   "source": [
    "`@currythis` is just syntactic sugar for `currythis(func1)`\n",
    "<br> The `@` operator at the start of the line runs a decorator"
   ]
  },
  {
   "cell_type": "code",
   "execution_count": 118,
   "metadata": {
    "collapsed": true
   },
   "outputs": [],
   "source": [
    "@chain_curry\n",
    "def add(x, y):\n",
    "    print(f'Sum {x + y}')\n",
    "    return x + y"
   ]
  },
  {
   "cell_type": "code",
   "execution_count": 119,
   "metadata": {},
   "outputs": [
    {
     "name": "stdout",
     "output_type": "stream",
     "text": [
      "Sum 11\n"
     ]
    },
    {
     "data": {
      "text/plain": [
       "11"
      ]
     },
     "execution_count": 119,
     "metadata": {},
     "output_type": "execute_result"
    }
   ],
   "source": [
    "add(5)(6)"
   ]
  },
  {
   "cell_type": "code",
   "execution_count": 120,
   "metadata": {},
   "outputs": [
    {
     "ename": "TypeError",
     "evalue": "f1() got an unexpected keyword argument 'b'",
     "output_type": "error",
     "traceback": [
      "\u001b[0;31m---------------------------------------------------------------------------\u001b[0m",
      "\u001b[0;31mTypeError\u001b[0m                                 Traceback (most recent call last)",
      "\u001b[0;32m<ipython-input-120-524bd739b654>\u001b[0m in \u001b[0;36m<module>\u001b[0;34m()\u001b[0m\n\u001b[0;32m----> 1\u001b[0;31m \u001b[0madd\u001b[0m\u001b[0;34m(\u001b[0m\u001b[0ma\u001b[0m \u001b[0;34m=\u001b[0m \u001b[0;36m3\u001b[0m\u001b[0;34m,\u001b[0m \u001b[0mb\u001b[0m \u001b[0;34m=\u001b[0m \u001b[0;36m5\u001b[0m\u001b[0;34m)\u001b[0m \u001b[0;31m#Why doesnt this work?\u001b[0m\u001b[0;34m\u001b[0m\u001b[0m\n\u001b[0m",
      "\u001b[0;31mTypeError\u001b[0m: f1() got an unexpected keyword argument 'b'"
     ]
    }
   ],
   "source": [
    "add(a = 3, b = 5) #Why doesnt this work?"
   ]
  },
  {
   "cell_type": "markdown",
   "metadata": {},
   "source": [
    "### The \"actual\" curry implementation"
   ]
  },
  {
   "cell_type": "code",
   "execution_count": 121,
   "metadata": {
    "code_folding": [],
    "collapsed": true,
    "run_control": {
     "marked": false
    }
   },
   "outputs": [],
   "source": [
    "def genericcurry(my_function):\n",
    "    #     print('Going in')\n",
    "    def new_func(*args, **kwargs):\n",
    "        try:\n",
    "            return my_function(*args, **kwargs)\n",
    "        except TypeError:\n",
    "            #             print('Not all arguments given')\n",
    "            return functools.partial(new_func, *args, **kwargs)\n",
    "    return new_func"
   ]
  },
  {
   "cell_type": "code",
   "execution_count": 122,
   "metadata": {},
   "outputs": [],
   "source": [
    "@genericcurry\n",
    "def add(a, b, c):\n",
    "    print(f'Sum {a+b+c}')\n",
    "    return a + b + c"
   ]
  },
  {
   "cell_type": "code",
   "execution_count": 123,
   "metadata": {},
   "outputs": [
    {
     "name": "stdout",
     "output_type": "stream",
     "text": [
      "functools.partial(<function genericcurry.<locals>.new_func at 0x106f8bbf8>, b=1, c=2)\n"
     ]
    }
   ],
   "source": [
    "f = add(b = 1, c = 2)\n",
    "print(f)"
   ]
  },
  {
   "cell_type": "code",
   "execution_count": 124,
   "metadata": {},
   "outputs": [
    {
     "name": "stdout",
     "output_type": "stream",
     "text": [
      "Sum 5\n"
     ]
    },
    {
     "data": {
      "text/plain": [
       "5"
      ]
     },
     "execution_count": 124,
     "metadata": {},
     "output_type": "execute_result"
    }
   ],
   "source": [
    "f(2)"
   ]
  },
  {
   "cell_type": "code",
   "execution_count": null,
   "metadata": {
    "collapsed": true
   },
   "outputs": [],
   "source": []
  }
 ],
 "metadata": {
  "kernelspec": {
   "display_name": "Python 3",
   "language": "python",
   "name": "python3"
  },
  "language_info": {
   "codemirror_mode": {
    "name": "ipython",
    "version": 3
   },
   "file_extension": ".py",
   "mimetype": "text/x-python",
   "name": "python",
   "nbconvert_exporter": "python",
   "pygments_lexer": "ipython3",
   "version": "3.6.3"
  },
  "toc": {
   "nav_menu": {},
   "number_sections": false,
   "sideBar": true,
   "skip_h1_title": false,
   "toc_cell": false,
   "toc_position": {},
   "toc_section_display": "block",
   "toc_window_display": true
  }
 },
 "nbformat": 4,
 "nbformat_minor": 2
}
