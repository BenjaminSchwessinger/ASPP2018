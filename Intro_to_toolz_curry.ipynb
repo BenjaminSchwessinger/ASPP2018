{
 "cells": [
  {
   "cell_type": "markdown",
   "metadata": {
    "code_folding": [
     9
    ]
   },
   "source": [
    "### The statement that calls multiple generators looks ugly.\n",
    "In such cases, with multiple genertors lined up, yield can start to feel unintuitive and tedious\n",
    "\n",
    "__Enter Toolz__\n",
    "<br> Toolz by Matt Rocklin - http://toolz.readthedocs.io/en/latest/\n",
    "<br> It makes streaming super easy - intuitive and concise !\n",
    "\n",
    "For more examples and explanation from Elegant Scipy written by the brilliant ASPP faculty - https://github.com/elegant-scipy/notebooks/blob/master/notebooks/ch8.ipynb"
   ]
  },
  {
   "cell_type": "code",
   "execution_count": 1,
   "metadata": {
    "collapsed": true
   },
   "outputs": [],
   "source": [
    "import toolz as tz\n",
    "from toolz import curry\n",
    "import getspeeddata as gs"
   ]
  },
  {
   "cell_type": "code",
   "execution_count": 2,
   "metadata": {
    "collapsed": true
   },
   "outputs": [],
   "source": [
    "curried_get_frames = curry(gs.getframes)"
   ]
  },
  {
   "cell_type": "markdown",
   "metadata": {},
   "source": [
    "### toolz.pipe\n",
    "Pipe is simply syntactic sugar to make multiple function calls easy\n",
    "<br> Passes a value through a sequence of functions - one by one"
   ]
  },
  {
   "cell_type": "code",
   "execution_count": 4,
   "metadata": {
    "collapsed": true
   },
   "outputs": [],
   "source": [
    "# This will do exactly as the previous call (without the added brackets)\n",
    "# The function calls are cleaner and can be read from left to right - which is sooo much better\n",
    "def pipeline(filename):\n",
    "    pipe = tz.pipe(filename,\n",
    "                gs.readxy,\n",
    "                gs.consecutivexy1,\n",
    "                gs.getdist,\n",
    "                curried_get_frames(threshold=10, frames_per_sec=30)\n",
    "               )\n",
    "    return pipe"
   ]
  },
  {
   "cell_type": "code",
   "execution_count": 7,
   "metadata": {},
   "outputs": [
    {
     "name": "stdout",
     "output_type": "stream",
     "text": [
      "Working on: Fish1\n",
      "Of 16.267 seconds recording time, time spent with speed less than 10 is 12.833 seconds\n",
      "Working on: Fish2\n",
      "Of 600.367 seconds recording time, time spent with speed less than 10 is 554.267 seconds\n",
      "Working on: Fish4\n",
      "Of 599.567 seconds recording time, time spent with speed less than 10 is 511.933 seconds\n",
      "Working on: Fish5\n",
      "Of 598.733 seconds recording time, time spent with speed less than 10 is 379.467 seconds\n",
      "Working on: Fish6\n",
      "Of 16.267 seconds recording time, time spent with speed less than 10 is 15.133 seconds\n"
     ]
    }
   ],
   "source": [
    "dirname = 'FishTrackingMultiple/'\n",
    "for i in gs.CSVfileGrabber(dirname):\n",
    "    pipeline(i)"
   ]
  },
  {
   "cell_type": "markdown",
   "metadata": {},
   "source": [
    "## Whats this curry?\n",
    "Curry = Haskell Brooks Curry \n",
    "<br> __\"Currying\"__ means partially evaluating a function and returning another function. "
   ]
  },
  {
   "cell_type": "code",
   "execution_count": 8,
   "metadata": {},
   "outputs": [
    {
     "ename": "TypeError",
     "evalue": "sum expected at least 1 arguments, got 0",
     "output_type": "error",
     "traceback": [
      "\u001b[0;31m---------------------------------------------------------------------------\u001b[0m",
      "\u001b[0;31mTypeError\u001b[0m                                 Traceback (most recent call last)",
      "\u001b[0;32m<ipython-input-8-d1ec2718f043>\u001b[0m in \u001b[0;36m<module>\u001b[0;34m()\u001b[0m\n\u001b[1;32m      1\u001b[0m \u001b[0;31m# If you dont give all inputs to a python function, it becomes angry\u001b[0m\u001b[0;34m\u001b[0m\u001b[0;34m\u001b[0m\u001b[0m\n\u001b[0;32m----> 2\u001b[0;31m \u001b[0msum\u001b[0m\u001b[0;34m(\u001b[0m\u001b[0;34m)\u001b[0m\u001b[0;34m\u001b[0m\u001b[0m\n\u001b[0m",
      "\u001b[0;31mTypeError\u001b[0m: sum expected at least 1 arguments, got 0"
     ]
    }
   ],
   "source": [
    "# If you dont give all inputs to a python function, it becomes angry\n",
    "sum()"
   ]
  },
  {
   "cell_type": "markdown",
   "metadata": {},
   "source": [
    "### By currying, we are breaking down the evaluation of a function \n",
    "A curried function evaluates partially when you dont give it all the arguments, and fully when all arguments are available. "
   ]
  },
  {
   "cell_type": "raw",
   "metadata": {},
   "source": [
    "# The syntax to wrap your head around\n",
    "def lets_curry_this_function(defined_function_with_some_arguments):\n",
    "    if all_arguments_are_given:\n",
    "        return defined_function(args)\n",
    "    else some_arguments_given:\n",
    "        return partial_definition_of_function(given args)"
   ]
  },
  {
   "cell_type": "markdown",
   "metadata": {},
   "source": [
    "### In python, functions can be passed around as any other object\n",
    "built-in function `Map` : Returns an iterator that applies function to every item of iterable, yielding the results\n",
    "<br>`map(function_to_apply, list_of_inputs)`"
   ]
  },
  {
   "cell_type": "code",
   "execution_count": 33,
   "metadata": {
    "collapsed": true
   },
   "outputs": [],
   "source": [
    "def getlen(text):\n",
    "    return len(text.split())"
   ]
  },
  {
   "cell_type": "code",
   "execution_count": 16,
   "metadata": {
    "run_control": {
     "marked": false
    }
   },
   "outputs": [
    {
     "data": {
      "text/plain": [
       "<map at 0x108ecec88>"
      ]
     },
     "execution_count": 16,
     "metadata": {},
     "output_type": "execute_result"
    }
   ],
   "source": [
    "strings = ['I am ok', 'I guess I will be ok']\n",
    "map(getlen, strings)"
   ]
  },
  {
   "cell_type": "code",
   "execution_count": 11,
   "metadata": {},
   "outputs": [
    {
     "name": "stdout",
     "output_type": "stream",
     "text": [
      "3\n",
      "6\n"
     ]
    }
   ],
   "source": [
    "for i in map(getlen, strings):\n",
    "    print(i)"
   ]
  },
  {
   "cell_type": "code",
   "execution_count": 12,
   "metadata": {},
   "outputs": [
    {
     "data": {
      "text/plain": [
       "[3, 6]"
      ]
     },
     "execution_count": 12,
     "metadata": {},
     "output_type": "execute_result"
    }
   ],
   "source": [
    "list(map(getlen, strings))"
   ]
  },
  {
   "cell_type": "markdown",
   "metadata": {},
   "source": [
    "If we were to think about how the `map` function is implemented"
   ]
  },
  {
   "cell_type": "code",
   "execution_count": 13,
   "metadata": {
    "collapsed": true
   },
   "outputs": [],
   "source": [
    "def a_map_function(myfunc, myseq):\n",
    "    for x in myseq: \n",
    "        yield myfunc(x)"
   ]
  },
  {
   "cell_type": "code",
   "execution_count": 14,
   "metadata": {},
   "outputs": [
    {
     "name": "stdout",
     "output_type": "stream",
     "text": [
      "3\n",
      "6\n"
     ]
    }
   ],
   "source": [
    "for i in a_map_function(getlen, strings):\n",
    "    print(i)"
   ]
  },
  {
   "cell_type": "markdown",
   "metadata": {},
   "source": [
    "### Task 3: Implement the in-built `filter` function\n",
    "__filter__ - Returns those elements of iterable for which function returns true <br> `filter(function, sequence)`\n",
    "\n",
    "__To Do__ - From the file 'FixationTaskToDo.txt', filter those lines that are tasks to be fixed (#FIXME)"
   ]
  },
  {
   "cell_type": "code",
   "execution_count": 20,
   "metadata": {},
   "outputs": [
    {
     "name": "stdout",
     "output_type": "stream",
     "text": [
      "#FIXME: Reset all counters when the subject name changes\n",
      "\n",
      "#FIXME: The program crashes sometimes, possibility after overlaying the video on top of the gray screen\n",
      "\n",
      "#FIXME: Look into why rewarded fixations appear to fall outside the allowed window.\n",
      "\n",
      "#FIXME: randomize calibration spot during calibration\n",
      "\n",
      "#FIXME: run a check to ensure that the monkey does not enter other locations other than the target in the response window\n",
      "\n",
      "#FIXME: Make sure we align the trials to the screen flip\n",
      "\n",
      "#FIXME: Randomly cycle through fixation locations which can be interrupted, should be resumed when done\n",
      "\n",
      "#FIXME: Add feedback on the experimenter's plot on how many trials have been completed\n",
      "\n"
     ]
    }
   ],
   "source": [
    "def words(text):\n",
    "    return text.startswith('#FIXME')\n",
    "        \n",
    "def myfilter(myfunc, myseq):\n",
    "    for x in myseq:\n",
    "        if myfunc(x):\n",
    "            yield x\n",
    "\n",
    "for i in myfilter(words, open('Textfiles/FixationTaskToDo.txt')):\n",
    "    print(i)"
   ]
  },
  {
   "cell_type": "markdown",
   "metadata": {},
   "source": [
    "### Now lets think about how curry would work \n",
    "This is a curried implementation of the same map function"
   ]
  },
  {
   "cell_type": "code",
   "execution_count": 37,
   "metadata": {
    "collapsed": true
   },
   "outputs": [],
   "source": [
    "import functools\n",
    "def curried_map_function(myfunc, myseq=None):\n",
    "    if myseq == None:\n",
    "        print('Partial')\n",
    "        return functools.partial(map, myfunc)\n",
    "    else:\n",
    "        print('Yield')\n",
    "        return map(myfunc, myseq) # Use a single sequence for now"
   ]
  },
  {
   "cell_type": "code",
   "execution_count": 40,
   "metadata": {},
   "outputs": [
    {
     "name": "stdout",
     "output_type": "stream",
     "text": [
      "Yield\n"
     ]
    }
   ],
   "source": [
    "get_all_length = curried_map_function(getlen, ['Ok'])"
   ]
  },
  {
   "cell_type": "markdown",
   "metadata": {},
   "source": [
    "## If we want to curry any other generic function\n",
    "For example, `add` that takes two arguments"
   ]
  },
  {
   "cell_type": "code",
   "execution_count": 48,
   "metadata": {
    "code_folding": [],
    "collapsed": true
   },
   "outputs": [],
   "source": [
    "# #def chain_curry(my_function):\n",
    "#     \"\"\" A chain curry function \"\"\"\n",
    "#     def f1(a):\n",
    "#         def f2(b):\n",
    "#             return my_function(a, b)\n",
    "#         return f2\n",
    "#     return f1\n",
    "\n",
    "\n",
    "def chain_curry(my_function):\n",
    "    print('Entering the function')\n",
    "    def f1(a):\n",
    "        print('Evaluating partially given input', a)\n",
    "        def f2(b):\n",
    "            print('Evaluating fully after getting input', b)\n",
    "            return my_function(a, b)\n",
    "        print('f2', f2)\n",
    "        return f2\n",
    "    print('f1', f1)\n",
    "    return f1\n",
    "\n",
    "\n",
    "def add(a, b):\n",
    "    return a + b"
   ]
  },
  {
   "cell_type": "code",
   "execution_count": 49,
   "metadata": {},
   "outputs": [
    {
     "name": "stdout",
     "output_type": "stream",
     "text": [
      "Entering the function\n",
      "f1 <function chain_curry.<locals>.f1 at 0x108eb9ae8>\n"
     ]
    }
   ],
   "source": [
    "f = chain_curry(my_function=add) #Define a curried function"
   ]
  },
  {
   "cell_type": "code",
   "execution_count": 50,
   "metadata": {
    "code_folding": []
   },
   "outputs": [
    {
     "name": "stdout",
     "output_type": "stream",
     "text": [
      "Evaluating partially given input 1\n",
      "f2 <function chain_curry.<locals>.f1.<locals>.f2 at 0x108eb9400>\n"
     ]
    }
   ],
   "source": [
    "g = f(1) #Just holds on to the value and produces no error"
   ]
  },
  {
   "cell_type": "code",
   "execution_count": 51,
   "metadata": {},
   "outputs": [
    {
     "name": "stdout",
     "output_type": "stream",
     "text": [
      "Evaluating fully after getting input 5\n"
     ]
    },
    {
     "data": {
      "text/plain": [
       "6"
      ]
     },
     "execution_count": 51,
     "metadata": {},
     "output_type": "execute_result"
    }
   ],
   "source": [
    "g(5)"
   ]
  },
  {
   "cell_type": "code",
   "execution_count": 45,
   "metadata": {},
   "outputs": [
    {
     "data": {
      "text/plain": [
       "6"
      ]
     },
     "execution_count": 45,
     "metadata": {},
     "output_type": "execute_result"
    }
   ],
   "source": [
    "f(1)(5)"
   ]
  },
  {
   "cell_type": "markdown",
   "metadata": {
    "code_folding": [
     0,
     9
    ]
   },
   "source": [
    "Problem with a chain curry?"
   ]
  },
  {
   "cell_type": "markdown",
   "metadata": {},
   "source": [
    "`@chain_curry` is just syntactic sugar for `chain_curry(func1)`\n",
    "<br> The `@` operator at the start of the line runs a decorator"
   ]
  },
  {
   "cell_type": "code",
   "execution_count": 52,
   "metadata": {
    "collapsed": true
   },
   "outputs": [],
   "source": [
    "@curry\n",
    "def add(x, y):\n",
    "    print(f'Sum {x + y}')\n",
    "    return x + y"
   ]
  },
  {
   "cell_type": "code",
   "execution_count": 55,
   "metadata": {},
   "outputs": [
    {
     "name": "stdout",
     "output_type": "stream",
     "text": [
      "Sum 8\n"
     ]
    },
    {
     "data": {
      "text/plain": [
       "8"
      ]
     },
     "execution_count": 55,
     "metadata": {},
     "output_type": "execute_result"
    }
   ],
   "source": [
    "add(5)(3)"
   ]
  },
  {
   "cell_type": "code",
   "execution_count": null,
   "metadata": {
    "collapsed": true
   },
   "outputs": [],
   "source": [
    "add(a = 3, b = 5) #Why doesnt this work?"
   ]
  },
  {
   "cell_type": "markdown",
   "metadata": {},
   "source": [
    "### The \"actual\" curry implementation"
   ]
  },
  {
   "cell_type": "code",
   "execution_count": null,
   "metadata": {
    "code_folding": [],
    "collapsed": true,
    "run_control": {
     "marked": false
    }
   },
   "outputs": [],
   "source": [
    "def genericcurry(my_function):\n",
    "    #     print('Going in')\n",
    "    def new_func(*args, **kwargs):\n",
    "        try:\n",
    "            return my_function(*args, **kwargs)\n",
    "        except TypeError:\n",
    "            #             print('Not all arguments given')\n",
    "            return functools.partial(new_func, *args, **kwargs)\n",
    "    return new_func"
   ]
  },
  {
   "cell_type": "code",
   "execution_count": null,
   "metadata": {
    "collapsed": true
   },
   "outputs": [],
   "source": [
    "@genericcurry\n",
    "def add(a, b, c):\n",
    "    print(f'Sum {a+b+c}')\n",
    "    return a + b + c"
   ]
  },
  {
   "cell_type": "code",
   "execution_count": null,
   "metadata": {
    "collapsed": true
   },
   "outputs": [],
   "source": [
    "f = add(b = 1, c = 2)\n",
    "print(f)"
   ]
  },
  {
   "cell_type": "code",
   "execution_count": null,
   "metadata": {
    "collapsed": true
   },
   "outputs": [],
   "source": [
    "f(2)"
   ]
  }
 ],
 "metadata": {
  "kernelspec": {
   "display_name": "Python 3",
   "language": "python",
   "name": "python3"
  },
  "language_info": {
   "codemirror_mode": {
    "name": "ipython",
    "version": 3
   },
   "file_extension": ".py",
   "mimetype": "text/x-python",
   "name": "python",
   "nbconvert_exporter": "python",
   "pygments_lexer": "ipython3",
   "version": "3.6.3"
  },
  "toc": {
   "nav_menu": {},
   "number_sections": false,
   "sideBar": true,
   "skip_h1_title": false,
   "toc_cell": false,
   "toc_position": {},
   "toc_section_display": "block",
   "toc_window_display": false
  }
 },
 "nbformat": 4,
 "nbformat_minor": 2
}
