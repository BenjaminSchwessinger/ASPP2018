{
 "cells": [
  {
   "cell_type": "markdown",
   "metadata": {},
   "source": [
    "Notes:\n",
    "    - Unlike traiditional/batch type of programming, (where you will load the entire dataset into memory and create multiple copies during analysis) generators iterate over data __lazily__ without loading the entire data source into memory at once and allow line-by-line analysis."
   ]
  },
  {
   "cell_type": "markdown",
   "metadata": {},
   "source": [
    "An extra step here using the built in csv library to get a reader object that can be iterated over"
   ]
  },
  {
   "cell_type": "markdown",
   "metadata": {},
   "source": [
    "Enumerate is one of those super cool in-built python functions that\n",
    "allows you to loop over an object and have an automatic counter"
   ]
  },
  {
   "cell_type": "raw",
   "metadata": {},
   "source": [
    "Once a generator has exhausted all its values, its job is done, you cant us eit anymore. You need to create a new generator. But luckily for us thats a very lightweight operation"
   ]
  },
  {
   "cell_type": "markdown",
   "metadata": {},
   "source": [
    "__Check__\n",
    "1. Explanation of a iterator with iter() and next\n",
    "2. Explain what lazy computation is\n",
    "3. Context managers and decorators\n",
    "4. Find out about plotting\n",
    "5. Deque\n",
    "6. Opencv"
   ]
  },
  {
   "cell_type": "markdown",
   "metadata": {},
   "source": [
    "__Create__\n",
    "1. Database for students to access"
   ]
  },
  {
   "cell_type": "markdown",
   "metadata": {},
   "source": [
    "What I like to do is to write a function that print statements instead of yield. \n",
    "When I am satisfied with the  accuracy of the print statement, I convert it to yield"
   ]
  },
  {
   "cell_type": "code",
   "execution_count": null,
   "metadata": {
    "collapsed": true
   },
   "outputs": [],
   "source": [
    "def gen_square(nums):\n",
    "    for num in nums:\n",
    "        yield num*num"
   ]
  },
  {
   "cell_type": "code",
   "execution_count": null,
   "metadata": {
    "collapsed": true
   },
   "outputs": [],
   "source": [
    "g = gen_square([1,2,3,4])\n",
    "print(g)"
   ]
  },
  {
   "cell_type": "code",
   "execution_count": null,
   "metadata": {
    "collapsed": true
   },
   "outputs": [],
   "source": [
    "g.gi_frame"
   ]
  },
  {
   "cell_type": "code",
   "execution_count": null,
   "metadata": {
    "collapsed": true
   },
   "outputs": [],
   "source": [
    "g.gi_frame.f_locals"
   ]
  },
  {
   "cell_type": "code",
   "execution_count": null,
   "metadata": {
    "collapsed": true
   },
   "outputs": [],
   "source": [
    "next(g)"
   ]
  },
  {
   "cell_type": "code",
   "execution_count": null,
   "metadata": {
    "collapsed": true
   },
   "outputs": [],
   "source": [
    "g.gi_frame.f_locals"
   ]
  },
  {
   "cell_type": "markdown",
   "metadata": {},
   "source": [
    "## Recursive functions"
   ]
  },
  {
   "cell_type": "code",
   "execution_count": null,
   "metadata": {
    "collapsed": true
   },
   "outputs": [],
   "source": [
    "# There is a number of files\n",
    "# We want to yield all lines in all files, but skip the first two lines\n",
    "def all_lines(dir):\n",
    "    files = os.listdir(dir)\n",
    "    for name in files:\n",
    "        # skip two\n",
    "        f = open(name)\n",
    "        next(f)\n",
    "        next(f)\n",
    "        yield from f"
   ]
  },
  {
   "cell_type": "code",
   "execution_count": 31,
   "metadata": {
    "collapsed": true
   },
   "outputs": [],
   "source": [
    "def countdown(start):\n",
    "    if start == 0:\n",
    "        raise StopIteration\n",
    "    yield start\n",
    "    yield from countdown(start - 1)"
   ]
  },
  {
   "cell_type": "code",
   "execution_count": 32,
   "metadata": {},
   "outputs": [
    {
     "name": "stdout",
     "output_type": "stream",
     "text": [
      "10 9 8 7 6 5 4 3 2 1 "
     ]
    },
    {
     "name": "stderr",
     "output_type": "stream",
     "text": [
      "/Users/seetha/anaconda/envs/py36/lib/python3.6/site-packages/ipykernel_launcher.py:5: DeprecationWarning: generator 'countdown' raised StopIteration\n",
      "  \"\"\"\n"
     ]
    }
   ],
   "source": [
    "for i in countdown(10):\n",
    "    print(i, end =\" \")"
   ]
  },
  {
   "cell_type": "code",
   "execution_count": 26,
   "metadata": {
    "collapsed": true
   },
   "outputs": [],
   "source": [
    "def permutation(string, p=0):\n",
    "    if p==len(string):\n",
    "        raise StopIteration\n",
    "    for i in range(p+1, len(string)):\n",
    "        yield ''.join((string[p], string[i]))\n",
    "    yield from permutation(string, p+1)"
   ]
  },
  {
   "cell_type": "code",
   "execution_count": 27,
   "metadata": {},
   "outputs": [
    {
     "name": "stderr",
     "output_type": "stream",
     "text": [
      "/Users/seetha/anaconda/envs/py36/lib/python3.6/site-packages/ipykernel_launcher.py:6: DeprecationWarning: generator 'permutation' raised StopIteration\n",
      "  \n"
     ]
    },
    {
     "data": {
      "text/plain": [
       "['ab', 'ac', 'ad', 'bc', 'bd', 'cd']"
      ]
     },
     "execution_count": 27,
     "metadata": {},
     "output_type": "execute_result"
    }
   ],
   "source": [
    "list(i for i in permutation('abcd'))"
   ]
  },
  {
   "cell_type": "markdown",
   "metadata": {
    "collapsed": true
   },
   "source": [
    "## Twitter"
   ]
  },
  {
   "cell_type": "code",
   "execution_count": null,
   "metadata": {
    "collapsed": true
   },
   "outputs": [],
   "source": [
    "trends = tz.pipe(ts.gettweets(),\n",
    "                 c.map(c.do(lambda x: print(f'Tweet: {x.text}')))\n",
    "                 )"
   ]
  },
  {
   "cell_type": "code",
   "execution_count": null,
   "metadata": {
    "collapsed": true
   },
   "outputs": [],
   "source": [
    "trends = tz.pipe(ts.gettweets(),\n",
    "                 c.map(c.do(lambda x: print(f'Tweet: {x.text}'))),\n",
    "                 c.map(extracthashtags),\n",
    "                 c.map(c.do(print))\n",
    "                 )"
   ]
  },
  {
   "cell_type": "code",
   "execution_count": null,
   "metadata": {
    "collapsed": true
   },
   "outputs": [],
   "source": [
    "trends = tz.pipe(ts.gettweets(),\n",
    "                 c.map(c.do(lambda x: print(f'Tweet: {x.text}'))),\n",
    "                 c.map(extracthashtags),\n",
    "                 c.map(c.do(print)),\n",
    "                 tz.concat,\n",
    "                 c.take(15)\n",
    "                 )"
   ]
  },
  {
   "cell_type": "code",
   "execution_count": null,
   "metadata": {
    "collapsed": true
   },
   "outputs": [],
   "source": [
    "trends = tz.pipe(ts.gettweets(),\n",
    "                 #                  c.map(c.do(lambda x: print(f'Tweet: {x.text}'))),\n",
    "                 c.map(extracthashtags),\n",
    "                 #                  c.map(c.do(print)),\n",
    "                 tz.concat,\n",
    "                 c.sliding_window(20),\n",
    "                 c.map(c.do(print)),\n",
    "                 c.map(trends),\n",
    "                 c.take(2)\n",
    "                 )"
   ]
  },
  {
   "cell_type": "code",
   "execution_count": null,
   "metadata": {
    "collapsed": true
   },
   "outputs": [],
   "source": [
    "trends = tz.pipe(ts.gettweets(),\n",
    "                 #                  c.map(c.do(lambda x: print(f'Tweet: {x.text}'))),\n",
    "                 c.map(extracthashtags),\n",
    "#                  c.map(c.do(print)),\n",
    "                 tz.concat,\n",
    "                 c.sliding_window(20),\n",
    "                 c.map(c.do(print)),\n",
    "                 c.map(trends),\n",
    "                 c.map(c.do(print)),\n",
    "                 c.map(top10trends),\n",
    "                 c.take(2)\n",
    "                 )"
   ]
  },
  {
   "cell_type": "code",
   "execution_count": null,
   "metadata": {
    "collapsed": true
   },
   "outputs": [],
   "source": [
    "iseven(4)"
   ]
  },
  {
   "cell_type": "markdown",
   "metadata": {
    "collapsed": true
   },
   "source": [
    "### PANDAS\n",
    "pd.melt()!!!"
   ]
  }
 ],
 "metadata": {
  "kernelspec": {
   "display_name": "Python 2",
   "language": "python",
   "name": "python2"
  },
  "language_info": {
   "codemirror_mode": {
    "name": "ipython",
    "version": 2
   },
   "file_extension": ".py",
   "mimetype": "text/x-python",
   "name": "python",
   "nbconvert_exporter": "python",
   "pygments_lexer": "ipython2",
   "version": "2.7.12"
  },
  "toc": {
   "nav_menu": {},
   "number_sections": true,
   "sideBar": true,
   "skip_h1_title": false,
   "toc_cell": false,
   "toc_position": {},
   "toc_section_display": "block",
   "toc_window_display": false
  }
 },
 "nbformat": 4,
 "nbformat_minor": 2
}
