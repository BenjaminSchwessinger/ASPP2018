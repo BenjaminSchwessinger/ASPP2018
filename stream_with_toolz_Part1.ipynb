{
 "cells": [
  {
   "cell_type": "markdown",
   "metadata": {
    "code_folding": []
   },
   "source": [
    "## Stream with toolz"
   ]
  },
  {
   "cell_type": "code",
   "execution_count": 1,
   "metadata": {
    "collapsed": true,
    "run_control": {
     "marked": false
    }
   },
   "outputs": [],
   "source": [
    "import toolz as tz\n",
    "import toolz.curried as c\n",
    "import re\n",
    "import matplotlib.pyplot as plt\n",
    "import numpy as np\n",
    "import time"
   ]
  },
  {
   "cell_type": "code",
   "execution_count": 2,
   "metadata": {
    "collapsed": true,
    "run_control": {
     "marked": false
    }
   },
   "outputs": [],
   "source": [
    "\"\"\"\n",
    "The python script TwitterStream.py uses the tweepy library to stream from twitter\n",
    "If you want to know more about twitter streaming, there are many useful tutorials\n",
    "https://www.dataquest.io/blog/streaming-data-python/\n",
    "https://cmry.github.io/notes/twitter-python\n",
    "http://adilmoujahid.com/posts/2014/07/twitter-analytics/\n",
    "\"\"\"\n",
    "import TwitterStream as ts"
   ]
  },
  {
   "cell_type": "raw",
   "metadata": {},
   "source": [
    "# Run this to print live tweets\n",
    "for i in ts.gettweets():\n",
    "    print(i.text)"
   ]
  },
  {
   "cell_type": "markdown",
   "metadata": {},
   "source": [
    "A number of parameters of the tweet can be retrieved from tweepy\n",
    "The components of a tweet object can be viewed here - https://developer.twitter.com/en/docs/tweets/data-dictionary/overview/tweet-object\n",
    "\n",
    "For eg;\n",
    "1. tweet - `text`\n",
    "2. hashtags - `entities.get('hashtags')`\n",
    "3. coordinates - `coordinates`"
   ]
  },
  {
   "cell_type": "markdown",
   "metadata": {},
   "source": [
    "## Task1\n",
    "Extract top trending hashtags"
   ]
  },
  {
   "cell_type": "code",
   "execution_count": null,
   "metadata": {
    "code_folding": [],
    "collapsed": true
   },
   "outputs": [],
   "source": [
    "def extracthashtags(tweet):\n",
    "    \"\"\"Extract hashtags from streamed tweet - \n",
    "    hashtags are present as list of dicts\"\"\"\n",
    "    arr = tweet.entities.get('hashtags')\n",
    "    hashtag = [m['text'] for m in arr]\n",
    "    return hashtag\n",
    "\n",
    "from collections import defaultdict\n",
    "\n",
    "def trends(hashtag):\n",
    "    \"\"\"Count number of times a hashtag was used. \n",
    "    Saved as dict - keys:hashtag, values:count\"\"\"\n",
    "    hashtag_dict = defaultdict(int)\n",
    "    for word in hashtag:\n",
    "        word = word.lower()  # Convert to lower case\n",
    "        hashtag_dict[word] += 1\n",
    "    return hashtag_dict\n",
    "\n",
    "\n",
    "def top10trends(data):\n",
    "    \"\"\"Return the top 10 hashtags - \n",
    "    sort by descending values of the dictionary and length of hashtag\"\"\"\n",
    "    return sorted(data.items(), key=c.get(1), reverse=True)[:10]"
   ]
  },
  {
   "cell_type": "code",
   "execution_count": null,
   "metadata": {
    "collapsed": true
   },
   "outputs": [],
   "source": [
    "\"\"\"Stream tweets, get hashtags and \n",
    "analyse the top 10 from a set of 100 incoming tweets\"\"\"\n",
    "trends = tz.pipe(ts.gettweets(),\n",
    "               c.map(extracthashtags),\n",
    "               tz.concat,\n",
    "               c.sliding_window(100),\n",
    "               c.map(trends),\n",
    "               c.map(top10trends))"
   ]
  },
  {
   "cell_type": "code",
   "execution_count": null,
   "metadata": {
    "collapsed": true
   },
   "outputs": [],
   "source": [
    "from IPython.display import clear_output\n",
    "for i in trends:\n",
    "    clear_output(wait=True)\n",
    "    print(i)"
   ]
  },
  {
   "cell_type": "markdown",
   "metadata": {},
   "source": [
    "Lets break this down\n",
    "<br>`map` - Returns an iterator that applies function to every item of iterable, yielding the results\n",
    "<br>`concat` - concat sequences\n",
    "<br>`sliding_window` - A sequence of overlapping subsequences\n",
    "<br> `take` - get the first n elements of a sequence\n",
    "<br> `do` - Runs func on x, returns x\n",
    "<br> `get` - Get element in a sequence or dict\n",
    "<br> `lambda` - anonymous functions (i.e. functions that are not bound to a name) can be built using this construct"
   ]
  },
  {
   "cell_type": "raw",
   "metadata": {},
   "source": [
    "trends = tz.pipe(ts.gettweets(),\n",
    "                 c.map(c.do(lambda x: print(f'Tweet: {x.text}')))\n",
    "                 )"
   ]
  },
  {
   "cell_type": "raw",
   "metadata": {},
   "source": [
    "for i in trends:\n",
    "    print('\\n\\n')\n",
    "    print(i)\n",
    "    print('\\n\\n')"
   ]
  },
  {
   "cell_type": "code",
   "execution_count": null,
   "metadata": {
    "collapsed": true
   },
   "outputs": [],
   "source": [
    "# Example of sliding window\n",
    "tz.pipe(range(5), tz.curried.sliding_window(2), list)"
   ]
  }
 ],
 "metadata": {
  "kernelspec": {
   "display_name": "Python 3",
   "language": "python",
   "name": "python3"
  },
  "language_info": {
   "codemirror_mode": {
    "name": "ipython",
    "version": 3
   },
   "file_extension": ".py",
   "mimetype": "text/x-python",
   "name": "python",
   "nbconvert_exporter": "python",
   "pygments_lexer": "ipython3",
   "version": "3.6.3"
  },
  "toc": {
   "nav_menu": {},
   "number_sections": true,
   "sideBar": true,
   "skip_h1_title": false,
   "toc_cell": false,
   "toc_position": {},
   "toc_section_display": "block",
   "toc_window_display": true
  }
 },
 "nbformat": 4,
 "nbformat_minor": 2
}
