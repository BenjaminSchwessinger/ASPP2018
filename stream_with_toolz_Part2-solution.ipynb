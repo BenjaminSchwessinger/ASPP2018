{
 "cells": [
  {
   "cell_type": "markdown",
   "metadata": {},
   "source": [
    "## Task 4\n",
    "Filter tweets by two user defined keywords for comparison - say \"trump\", \"AustraliaOpen\"\n",
    "Your code should be able to process multiple keywords\n",
    "Get the coordinates of the geographical location of these tweets\n",
    "We will plot the coordinates as they arrive with a different color for the keyword\n",
    "\n",
    "<br>__Helpful stuff__ :\n",
    "<br>`c.filter` - Curried version: constructs an iterator from those elements of iterable for which function returns true\n",
    "<br> coordinates can be obtained from `tweet.coordinates[coordinates]` as [longitude, latitude]\n",
    "<br> install cartopy - pip install cartopy --no-binary cartopy\n",
    "<br> Plot the coordinates on the map returned "
   ]
  },
  {
   "cell_type": "code",
   "execution_count": null,
   "metadata": {
    "collapsed": true
   },
   "outputs": [],
   "source": [
    "import toolz as tz\n",
    "import toolz.curried as c\n",
    "import numpy as np\n",
    "import time"
   ]
  },
  {
   "cell_type": "code",
   "execution_count": null,
   "metadata": {
    "collapsed": true
   },
   "outputs": [],
   "source": [
    "\"\"\"\n",
    "The python script TwitterStream.py uses the tweepy library to stream from twitter\n",
    "If you want to know more about twitter streaming, there are many useful tutorials\n",
    "https://www.dataquest.io/blog/streaming-data-python/\n",
    "https://cmry.github.io/notes/twitter-python\n",
    "http://adilmoujahid.com/posts/2014/07/twitter-analytics/\n",
    "\"\"\"\n",
    "import TwitterStream as ts"
   ]
  },
  {
   "cell_type": "code",
   "execution_count": null,
   "metadata": {
    "collapsed": true
   },
   "outputs": [],
   "source": [
    "@tz.curry\n",
    "def filterwords(tweet, words):\n",
    "    \"\"\"Filter tweets that contain strings from a list of words provided by the user\"\"\"\n",
    "    text = tweet.text.lower()\n",
    "    print(text)\n",
    "    for x in words:\n",
    "        if x in text:\n",
    "            return x in text\n",
    "\n",
    "\n",
    "def get_coordinates(tweet):\n",
    "    return tweet.coordinates['coordinates']"
   ]
  },
  {
   "cell_type": "code",
   "execution_count": null,
   "metadata": {
    "collapsed": true
   },
   "outputs": [],
   "source": [
    "import matplotlib.pyplot as plt\n",
    "from IPython import display\n",
    "import cartopy.crs as ccrs \n",
    "import cartopy.feature as ft\n",
    "\n",
    "fig, ax = plt.subplots(figsize=(12, 12), subplot_kw=dict(\n",
    "    projection=ccrs.PlateCarree()))\n",
    "ax.add_feature(ft.LAND, linewidth=1)\n",
    "ax.coastlines(color='k')\n",
    "ax.outline_patch.set_edgecolor('white')\n",
    "ax.set_extent([-150, 60, -25, 60])\n",
    "\n",
    "\n",
    "@tz.curry\n",
    "def plot_coordinates(location, axis):\n",
    "    axis.plot(location[0], location[1], 'o',\n",
    "              markersize=5, color='r', alpha=0.5)"
   ]
  },
  {
   "cell_type": "code",
   "execution_count": null,
   "metadata": {
    "collapsed": true
   },
   "outputs": [],
   "source": [
    "def location(axis,  wordlist):\n",
    "    return tz.pipe(ts.gettweets(),\n",
    "#                    c.filter(filterwords(words=wordlist)),\n",
    "                   c.map(get_coordinates),\n",
    "                   c.map(plot_coordinates(axis=axis)))"
   ]
  },
  {
   "cell_type": "code",
   "execution_count": null,
   "metadata": {
    "collapsed": true
   },
   "outputs": [],
   "source": [
    "wordlist = ['AusOpen']\n",
    "for i in location(axis=ax, wordlist= wordlist):\n",
    "    plt.draw()\n",
    "    display.clear_output(wait=True)\n",
    "    display.display(plt.gcf())"
   ]
  }
 ],
 "metadata": {
  "kernelspec": {
   "display_name": "Python 3",
   "language": "python",
   "name": "python3"
  },
  "language_info": {
   "codemirror_mode": {
    "name": "ipython",
    "version": 3
   },
   "file_extension": ".py",
   "mimetype": "text/x-python",
   "name": "python",
   "nbconvert_exporter": "python",
   "pygments_lexer": "ipython3",
   "version": "3.6.3"
  },
  "toc": {
   "nav_menu": {},
   "number_sections": false,
   "sideBar": true,
   "skip_h1_title": false,
   "toc_cell": false,
   "toc_position": {},
   "toc_section_display": "block",
   "toc_window_display": false
  }
 },
 "nbformat": 4,
 "nbformat_minor": 2
}
