{
 "cells": [
  {
   "cell_type": "markdown",
   "metadata": {},
   "source": [
    "## Task 4\n",
    "Filter tweets by two user defined keywords for comparison - say \"trump\", \"AustraliaOpen\"\n",
    "Your code should be able to process multiple keywords\n",
    "Get the coordinates of the geographical location of these tweets\n",
    "We will plot the coordinates as they arrive with a different color for the keyword\n",
    "\n",
    "<br>__Helpful stuff__ :\n",
    "<br>`c.filter` - Curried version: constructs an iterator from those elements of iterable for which function returns true\n",
    "<br> coordinates can be obtained from `tweet.coordinates[coordinates]` as [longitude, latitude]\n",
    "<br> install cartopy - pip install cartopy --no-binary cartopy\n",
    "<br> Plot the coordinates on the map returned "
   ]
  },
  {
   "cell_type": "code",
   "execution_count": 1,
   "metadata": {
    "collapsed": true
   },
   "outputs": [],
   "source": [
    "import toolz as tz\n",
    "import toolz.curried as c\n",
    "import numpy as np\n",
    "import time"
   ]
  },
  {
   "cell_type": "code",
   "execution_count": 2,
   "metadata": {},
   "outputs": [
    {
     "ename": "ImportError",
     "evalue": "No module named tweepy.streaming",
     "output_type": "error",
     "traceback": [
      "\u001b[0;31m---------------------------------------------------------------------------\u001b[0m",
      "\u001b[0;31mImportError\u001b[0m                               Traceback (most recent call last)",
      "\u001b[0;32m<ipython-input-2-dccb40c5c38e>\u001b[0m in \u001b[0;36m<module>\u001b[0;34m()\u001b[0m\n\u001b[1;32m      6\u001b[0m \u001b[0mhttp\u001b[0m\u001b[0;34m:\u001b[0m\u001b[0;34m//\u001b[0m\u001b[0madilmoujahid\u001b[0m\u001b[0;34m.\u001b[0m\u001b[0mcom\u001b[0m\u001b[0;34m/\u001b[0m\u001b[0mposts\u001b[0m\u001b[0;34m/\u001b[0m\u001b[0;36m2014\u001b[0m\u001b[0;34m/\u001b[0m\u001b[0;36m07\u001b[0m\u001b[0;34m/\u001b[0m\u001b[0mtwitter\u001b[0m\u001b[0;34m-\u001b[0m\u001b[0manalytics\u001b[0m\u001b[0;34m/\u001b[0m\u001b[0;34m\u001b[0m\u001b[0m\n\u001b[1;32m      7\u001b[0m \"\"\"\n\u001b[0;32m----> 8\u001b[0;31m \u001b[0;32mimport\u001b[0m \u001b[0mTwitterStream\u001b[0m \u001b[0;32mas\u001b[0m \u001b[0mts\u001b[0m\u001b[0;34m\u001b[0m\u001b[0m\n\u001b[0m",
      "\u001b[0;32m/Users/seetha/Desktop/ASPP2018/TwitterStream.py\u001b[0m in \u001b[0;36m<module>\u001b[0;34m()\u001b[0m\n\u001b[1;32m      1\u001b[0m \u001b[0;31m# Import the necessary methods from tweepy library\u001b[0m\u001b[0;34m\u001b[0m\u001b[0;34m\u001b[0m\u001b[0m\n\u001b[0;32m----> 2\u001b[0;31m \u001b[0;32mfrom\u001b[0m \u001b[0mtweepy\u001b[0m\u001b[0;34m.\u001b[0m\u001b[0mstreaming\u001b[0m \u001b[0;32mimport\u001b[0m \u001b[0mStreamListener\u001b[0m\u001b[0;34m\u001b[0m\u001b[0m\n\u001b[0m\u001b[1;32m      3\u001b[0m \u001b[0;32mfrom\u001b[0m \u001b[0mtweepy\u001b[0m \u001b[0;32mimport\u001b[0m \u001b[0mOAuthHandler\u001b[0m\u001b[0;34m\u001b[0m\u001b[0m\n\u001b[1;32m      4\u001b[0m \u001b[0;32mfrom\u001b[0m \u001b[0mtweepy\u001b[0m \u001b[0;32mimport\u001b[0m \u001b[0mStream\u001b[0m\u001b[0;34m\u001b[0m\u001b[0m\n\u001b[1;32m      5\u001b[0m \u001b[0;32mfrom\u001b[0m \u001b[0mtime\u001b[0m \u001b[0;32mimport\u001b[0m \u001b[0msleep\u001b[0m\u001b[0;34m\u001b[0m\u001b[0m\n",
      "\u001b[0;31mImportError\u001b[0m: No module named tweepy.streaming"
     ]
    }
   ],
   "source": [
    "\"\"\"\n",
    "The python script TwitterStream.py uses the tweepy library to stream from twitter\n",
    "If you want to know more about twitter streaming, there are many useful tutorials\n",
    "https://www.dataquest.io/blog/streaming-data-python/\n",
    "https://cmry.github.io/notes/twitter-python\n",
    "http://adilmoujahid.com/posts/2014/07/twitter-analytics/\n",
    "\"\"\"\n",
    "import TwitterStream as ts"
   ]
  },
  {
   "cell_type": "code",
   "execution_count": 3,
   "metadata": {
    "collapsed": true
   },
   "outputs": [],
   "source": [
    "@tz.curry\n",
    "def filterwords(tweet, words):\n",
    "    \"\"\"Filter tweets that contain strings from a list of words provided by the user\"\"\"\n",
    "    text = tweet.text.lower()\n",
    "    for x in words:\n",
    "        if x in text:\n",
    "            return x in text\n",
    "\n",
    "\n",
    "def get_coordinates(tweet):\n",
    "    return tweet.coordinates['coordinates']"
   ]
  },
  {
   "cell_type": "markdown",
   "metadata": {},
   "source": [
    "We can plot on a simple map using cartopy\n",
    "http://scitools.org.uk/cartopy/docs/v0.15/matplotlib/intro.html"
   ]
  },
  {
   "cell_type": "code",
   "execution_count": null,
   "metadata": {
    "collapsed": true
   },
   "outputs": [],
   "source": [
    "import matplotlib.pyplot as plt\n",
    "from IPython import display\n",
    "import cartopy.crs as ccrs \n",
    "import cartopy.feature as ft\n",
    "\n",
    "fig, ax = plt.subplots(figsize=(12, 12), subplot_kw=dict(\n",
    "    projection=ccrs.PlateCarree()))\n",
    "ax.add_feature(ft.LAND, linewidth=1)\n",
    "ax.coastlines(color='k')\n",
    "ax.outline_patch.set_edgecolor('white')\n",
    "ax.set_extent([-150, 60, -25, 60])"
   ]
  },
  {
   "cell_type": "code",
   "execution_count": null,
   "metadata": {
    "collapsed": true
   },
   "outputs": [],
   "source": [
    "@tz.curry\n",
    "def plot_coordinates(location, axis):\n",
    "    axis.plot(location[0], location[1], 'o',\n",
    "              markersize=5, color='r', alpha=0.5)"
   ]
  },
  {
   "cell_type": "code",
   "execution_count": null,
   "metadata": {
    "collapsed": true
   },
   "outputs": [],
   "source": [
    "def location(axis,  wordlist):\n",
    "    \"\"\" Write the pipeline using toolz.pipe here\"\"\"\n",
    "    return pipeline"
   ]
  },
  {
   "cell_type": "code",
   "execution_count": null,
   "metadata": {
    "collapsed": true
   },
   "outputs": [],
   "source": [
    "wordlist = ['No']\n",
    "for i in location(axis=ax, wordlist= wordlist):\n",
    "    plt.draw()\n",
    "    display.clear_output(wait=True)\n",
    "    display.display(plt.gcf())"
   ]
  }
 ],
 "metadata": {
  "kernelspec": {
   "display_name": "Python 2",
   "language": "python",
   "name": "python2"
  },
  "language_info": {
   "codemirror_mode": {
    "name": "ipython",
    "version": 2
   },
   "file_extension": ".py",
   "mimetype": "text/x-python",
   "name": "python",
   "nbconvert_exporter": "python",
   "pygments_lexer": "ipython2",
   "version": "2.7.12"
  },
  "toc": {
   "nav_menu": {},
   "number_sections": false,
   "sideBar": true,
   "skip_h1_title": false,
   "toc_cell": false,
   "toc_position": {},
   "toc_section_display": "block",
   "toc_window_display": false
  }
 },
 "nbformat": 4,
 "nbformat_minor": 2
}
